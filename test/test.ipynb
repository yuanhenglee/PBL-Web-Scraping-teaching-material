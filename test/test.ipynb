{
 "cells": [
  {
   "cell_type": "code",
   "execution_count": 23,
   "metadata": {},
   "outputs": [],
   "source": [
    "import requests as rq\n",
    "from bs4 import BeautifulSoup\n",
    "import sqlite3"
   ]
  },
  {
   "cell_type": "code",
   "execution_count": 3,
   "metadata": {},
   "outputs": [],
   "source": [
    "home_url = \"https://mdn.github.io/beginner-html-site/\" \n",
    "r = rq.get(home_url)\n",
    "soup = BeautifulSoup(r.text, \"lxml\")"
   ]
  },
  {
   "cell_type": "code",
   "execution_count": 4,
   "metadata": {},
   "outputs": [
    {
     "name": "stdout",
     "output_type": "stream",
     "text": [
      "<Response [200]>\n",
      "<!DOCTYPE html>\n",
      "<html>\n",
      " <head>\n",
      "  <meta charset=\"utf-8\"/>\n",
      "  <title>\n",
      "   My test page\n",
      "  </title>\n",
      " </head>\n",
      " <body>\n",
      "  <h1>\n",
      "   Mozilla is cool\n",
      "  </h1>\n",
      "  <img alt=\"The Firefox logo: a flaming fox surrounding the Earth.\" src=\"images/firefox-icon.png\"/>\n",
      "  <p>\n",
      "   At Mozilla, we’re a global community of\n",
      "  </p>\n",
      "  <ul>\n",
      "   <!-- changed to list in the tutorial -->\n",
      "   <li>\n",
      "    technologists\n",
      "   </li>\n",
      "   <li>\n",
      "    thinkers\n",
      "   </li>\n",
      "   <li>\n",
      "    builders\n",
      "   </li>\n",
      "  </ul>\n",
      "  <p>\n",
      "   working together to keep the Internet alive and accessible, so people worldwide can be informed contributors and creators of the Web. We believe this act of human collaboration across an open platform is essential to individual growth and our collective future.\n",
      "  </p>\n",
      "  <p>\n",
      "   Read the\n",
      "   <a href=\"https://www.mozilla.org/en-US/about/manifesto/\">\n",
      "    Mozilla Manifesto\n",
      "   </a>\n",
      "   to learn even more about the values and principles that guide the pursuit of our mission.\n",
      "  </p>\n",
      " </body>\n",
      "</html>\n"
     ]
    }
   ],
   "source": [
    "print(r)\n",
    "print(soup.prettify())"
   ]
  },
  {
   "cell_type": "code",
   "execution_count": 21,
   "metadata": {},
   "outputs": [
    {
     "name": "stdout",
     "output_type": "stream",
     "text": [
      "<pupupu>At Mozilla, we’re a global community of</pupupu>\n"
     ]
    }
   ],
   "source": [
    "soup.p.name = \"pupupu\"\n",
    "\n",
    "print(soup.pupupu)"
   ]
  },
  {
   "cell_type": "code",
   "execution_count": 32,
   "metadata": {},
   "outputs": [],
   "source": [
    "conn = sqlite3.connect('news_test.db')\n",
    "c = conn.cursor()\n",
    "\n",
    "c.execute(\"\"\"INSERT INTO news VALUES(\n",
    "    'second news',\n",
    "    'yhl',\n",
    "    'fasdjfksldjfalsf;da;;a;a;' \n",
    ")\n",
    "\"\"\")\n",
    "\n",
    "conn.commit()\n",
    "conn.close()"
   ]
  },
  {
   "cell_type": "code",
   "execution_count": 31,
   "metadata": {},
   "outputs": [],
   "source": []
  },
  {
   "cell_type": "code",
   "execution_count": null,
   "metadata": {},
   "outputs": [],
   "source": []
  }
 ],
 "metadata": {
  "interpreter": {
   "hash": "aee8b7b246df8f9039afb4144a1f6fd8d2ca17a180786b69acc140d282b71a49"
  },
  "kernelspec": {
   "display_name": "Python 3.10.2 64-bit",
   "language": "python",
   "name": "python3"
  },
  "language_info": {
   "codemirror_mode": {
    "name": "ipython",
    "version": 3
   },
   "file_extension": ".py",
   "mimetype": "text/x-python",
   "name": "python",
   "nbconvert_exporter": "python",
   "pygments_lexer": "ipython3",
   "version": "3.10.2"
  },
  "orig_nbformat": 4
 },
 "nbformat": 4,
 "nbformat_minor": 2
}
